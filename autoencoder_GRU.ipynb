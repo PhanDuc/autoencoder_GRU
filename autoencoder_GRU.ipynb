{
 "cells": [
  {
   "cell_type": "code",
   "execution_count": 5,
   "metadata": {
    "colab": {
     "autoexec": {
      "startup": false,
      "wait_interval": 0
     },
     "base_uri": "https://localhost:8080/",
     "height": 36
    },
    "colab_type": "code",
    "executionInfo": {
     "elapsed": 8170,
     "status": "ok",
     "timestamp": 1527686770940,
     "user": {
      "displayName": "Duc Phan",
      "photoUrl": "https://lh3.googleusercontent.com/a/default-user=s128",
      "userId": "116486693952662929707"
     },
     "user_tz": -180
    },
    "id": "9tw-PYcxAYGS",
    "outputId": "7fcdba73-f05d-4067-8c7e-6538d68e66ca"
   },
   "outputs": [
    {
     "name": "stderr",
     "output_type": "stream",
     "text": [
      "Using TensorFlow backend.\n"
     ]
    }
   ],
   "source": [
    "import os\n",
    "\n",
    "import numpy as np\n",
    "from keras import optimizers\n",
    "from keras.callbacks import ModelCheckpoint\n",
    "from keras.layers import Dense, Embedding, Input, RepeatVector, GRU\n",
    "from keras.models import Model\n",
    "from keras.preprocessing.sequence import pad_sequences\n",
    "from keras.preprocessing.text import Tokenizer\n"
   ]
  },
  {
   "cell_type": "code",
   "execution_count": 0,
   "metadata": {
    "colab": {
     "autoexec": {
      "startup": false,
      "wait_interval": 0
     }
    },
    "colab_type": "code",
    "id": "XY0WExNFUkxg"
   },
   "outputs": [],
   "source": [
    "import os\n",
    "SOURCE_FOLDER = \"drive/Colab Notebooks/\""
   ]
  },
  {
   "cell_type": "code",
   "execution_count": 7,
   "metadata": {
    "colab": {
     "autoexec": {
      "startup": false,
      "wait_interval": 0
     },
     "base_uri": "https://localhost:8080/",
     "height": 112
    },
    "colab_type": "code",
    "executionInfo": {
     "elapsed": 17053,
     "status": "ok",
     "timestamp": 1527686849645,
     "user": {
      "displayName": "Duc Phan",
      "photoUrl": "https://lh3.googleusercontent.com/a/default-user=s128",
      "userId": "116486693952662929707"
     },
     "user_tz": -180
    },
    "id": "EyZ5zC24CH5c",
    "outputId": "f24cf634-508a-4df6-907b-cb82b0cdf794"
   },
   "outputs": [
    {
     "name": "stdout",
     "output_type": "stream",
     "text": [
      "Please, open the following URL in a web browser: https://accounts.google.com/o/oauth2/auth?client_id=32555940559.apps.googleusercontent.com&redirect_uri=urn%3Aietf%3Awg%3Aoauth%3A2.0%3Aoob&scope=https%3A%2F%2Fwww.googleapis.com%2Fauth%2Fdrive&response_type=code&access_type=offline&approval_prompt=force\r\n",
      "··········\n",
      "Please, open the following URL in a web browser: https://accounts.google.com/o/oauth2/auth?client_id=32555940559.apps.googleusercontent.com&redirect_uri=urn%3Aietf%3Awg%3Aoauth%3A2.0%3Aoob&scope=https%3A%2F%2Fwww.googleapis.com%2Fauth%2Fdrive&response_type=code&access_type=offline&approval_prompt=force\n",
      "Please enter the verification code: Access token retrieved correctly.\n"
     ]
    }
   ],
   "source": [
    "!apt-get install -y -qq software-properties-common python-software-properties module-init-tools\n",
    "!add-apt-repository -y ppa:alessandro-strada/ppa 2>&1 > /dev/null\n",
    "!apt-get update -qq 2>&1 > /dev/null\n",
    "!apt-get -y install -qq google-drive-ocamlfuse fuse\n",
    "from google.colab import auth\n",
    "auth.authenticate_user()\n",
    "from oauth2client.client import GoogleCredentials\n",
    "creds = GoogleCredentials.get_application_default()\n",
    "import getpass\n",
    "!google-drive-ocamlfuse -headless -id={creds.client_id} -secret={creds.client_secret} < /dev/null 2>&1 | grep URL\n",
    "vcode = getpass.getpass()\n",
    "!echo {vcode} | google-drive-ocamlfuse -headless -id={creds.client_id} -secret={creds.client_secret}"
   ]
  },
  {
   "cell_type": "code",
   "execution_count": 0,
   "metadata": {
    "colab": {
     "autoexec": {
      "startup": false,
      "wait_interval": 0
     }
    },
    "colab_type": "code",
    "id": "bDssYhXfCDa1"
   },
   "outputs": [],
   "source": [
    "!mkdir -p drive\n",
    "!google-drive-ocamlfuse drive"
   ]
  },
  {
   "cell_type": "code",
   "execution_count": 9,
   "metadata": {
    "colab": {
     "autoexec": {
      "startup": false,
      "wait_interval": 0
     },
     "base_uri": "https://localhost:8080/",
     "height": 338
    },
    "colab_type": "code",
    "executionInfo": {
     "elapsed": 1413,
     "status": "ok",
     "timestamp": 1527686869249,
     "user": {
      "displayName": "Duc Phan",
      "photoUrl": "https://lh3.googleusercontent.com/a/default-user=s128",
      "userId": "116486693952662929707"
     },
     "user_tz": -180
    },
    "id": "OvrdUCLT0_lV",
    "outputId": "c323f94e-a9ce-4f8c-f459-b9fe271af4cb"
   },
   "outputs": [
    {
     "name": "stdout",
     "output_type": "stream",
     "text": [
      "[name: \"/device:CPU:0\"\n",
      "device_type: \"CPU\"\n",
      "memory_limit: 268435456\n",
      "locality {\n",
      "}\n",
      "incarnation: 4012523721064357977\n",
      ", name: \"/device:GPU:0\"\n",
      "device_type: \"GPU\"\n",
      "memory_limit: 11287966516\n",
      "locality {\n",
      "  bus_id: 1\n",
      "  links {\n",
      "  }\n",
      "}\n",
      "incarnation: 7400453524375176930\n",
      "physical_device_desc: \"device: 0, name: Tesla K80, pci bus id: 0000:00:04.0, compute capability: 3.7\"\n",
      "]\n"
     ]
    }
   ],
   "source": [
    "from tensorflow.python.client import device_lib\n",
    "print(device_lib.list_local_devices())"
   ]
  },
  {
   "cell_type": "code",
   "execution_count": 0,
   "metadata": {
    "colab": {
     "autoexec": {
      "startup": false,
      "wait_interval": 0
     }
    },
    "colab_type": "code",
    "id": "U_RGemcdAd35"
   },
   "outputs": [],
   "source": [
    "#file_path = \"D:\\\\Computer_Science_Project\\\\Encoder-Decoder\\\\new_chr_data.txt\"\n",
    "with open(\"drive/Colab Notebooks/new_chr_data.txt\") as new_chr_file:\n",
    "     new_chr_data_combination = [line.strip() for line in new_chr_file.readlines()]\n"
   ]
  },
  {
   "cell_type": "code",
   "execution_count": 0,
   "metadata": {
    "colab": {
     "autoexec": {
      "startup": false,
      "wait_interval": 0
     }
    },
    "colab_type": "code",
    "id": "QuA5LEjaB8K9"
   },
   "outputs": [],
   "source": [
    "#preprocess for keras\n",
    "NUM_WORDS = 6000\n",
    "SEQUENCE_LEN = 11"
   ]
  },
  {
   "cell_type": "code",
   "execution_count": 0,
   "metadata": {
    "colab": {
     "autoexec": {
      "startup": false,
      "wait_interval": 0
     }
    },
    "colab_type": "code",
    "id": "xeawdk1RCm1V"
   },
   "outputs": [],
   "source": [
    "tokenizer = Tokenizer(num_words=NUM_WORDS, split=' ')\n",
    "#tokenizer = Tokenizer()\n",
    "tokenizer.fit_on_texts(new_chr_data_combination)\n",
    "seqs = tokenizer.texts_to_sequences(new_chr_data_combination)\n",
    "seqs = [seqs[i] for i in range(len(seqs)) if len(seqs[i]) > 0]"
   ]
  },
  {
   "cell_type": "code",
   "execution_count": 0,
   "metadata": {
    "colab": {
     "autoexec": {
      "startup": false,
      "wait_interval": 0
     }
    },
    "colab_type": "code",
    "id": "y8gtB7ZgF1ek"
   },
   "outputs": [],
   "source": [
    "pad_seqs = [i for i in seqs if len(i) > 0]\n",
    "pad_seqs = pad_sequences(pad_seqs,\n",
    "                         SEQUENCE_LEN\n",
    "                        )"
   ]
  },
  {
   "cell_type": "code",
   "execution_count": 14,
   "metadata": {
    "colab": {
     "autoexec": {
      "startup": false,
      "wait_interval": 0
     },
     "base_uri": "https://localhost:8080/",
     "height": 36
    },
    "colab_type": "code",
    "executionInfo": {
     "elapsed": 901,
     "status": "ok",
     "timestamp": 1527687119321,
     "user": {
      "displayName": "Duc Phan",
      "photoUrl": "https://lh3.googleusercontent.com/a/default-user=s128",
      "userId": "116486693952662929707"
     },
     "user_tz": -180
    },
    "id": "P1yVHZn5RsG-",
    "outputId": "5d243b92-d47d-4a82-99bc-9ef688b8d52d"
   },
   "outputs": [
    {
     "data": {
      "text/plain": [
       "(5219241, 11)"
      ]
     },
     "execution_count": 14,
     "metadata": {
      "tags": []
     },
     "output_type": "execute_result"
    }
   ],
   "source": [
    "pad_seqs.shape"
   ]
  },
  {
   "cell_type": "code",
   "execution_count": 26,
   "metadata": {
    "colab": {
     "autoexec": {
      "startup": false,
      "wait_interval": 0
     },
     "base_uri": "https://localhost:8080/",
     "height": 55
    },
    "colab_type": "code",
    "executionInfo": {
     "elapsed": 792,
     "status": "ok",
     "timestamp": 1527656014297,
     "user": {
      "displayName": "Duc Phan",
      "photoUrl": "https://lh3.googleusercontent.com/a/default-user=s128",
      "userId": "116486693952662929707"
     },
     "user_tz": -180
    },
    "id": "PwTobhA8ZMM_",
    "outputId": "f62b33a0-3ac5-482b-bb36-9c24398d4eb9"
   },
   "outputs": [
    {
     "data": {
      "text/plain": [
       "array([   0,    0,    0,    0,    0,    0, 2077, 2905,  399, 2973,  468],\n",
       "      dtype=int32)"
      ]
     },
     "execution_count": 26,
     "metadata": {
      "tags": []
     },
     "output_type": "execute_result"
    }
   ],
   "source": [
    "pad_seqs[0]"
   ]
  },
  {
   "cell_type": "code",
   "execution_count": 0,
   "metadata": {
    "colab": {
     "autoexec": {
      "startup": false,
      "wait_interval": 0
     }
    },
    "colab_type": "code",
    "id": "5FvygnADGDs7"
   },
   "outputs": [],
   "source": [
    "#The model\n",
    "EMBED_SIZE = 100\n",
    "LATENT_SIZE = 100\n",
    "batch_size = 96"
   ]
  },
  {
   "cell_type": "code",
   "execution_count": null,
   "metadata": {},
   "outputs": [],
   "source": [
    "#====== Encoder =====#\n",
    "inputs = Input(shape=(SEQUENCE_LEN,), \n",
    "               name='Encoder-Input')\n",
    "\n",
    "emb_layer = Embedding(NUM_WORDS, \n",
    "                      EMBED_SIZE, \n",
    "                      input_length = SEQUENCE_LEN, \n",
    "                      name = 'Encoder-Embedding-Layer', \n",
    "                      mask_zero = False)\n",
    "\n",
    "emb_out = emb_layer(inputs)\n",
    "\n",
    "state_h = GRU(LATENT_SIZE, \n",
    "              name= 'Encoder-GRU')(emb_out)\n",
    "\n",
    "encoded  = Model(inputs  = inputs, \n",
    "                 outputs = state_h, \n",
    "                 name    = 'Encoder-Model')\n",
    "\n",
    "encoded_out = encoded(inputs)"
   ]
  },
  {
   "cell_type": "code",
   "execution_count": null,
   "metadata": {},
   "outputs": [],
   "source": [
    "#===== Decoder =====#\n",
    "decoded = RepeatVector(SEQUENCE_LEN)(encoded_out)\n",
    "\n",
    "decoder_gru = GRU(LATENT_SIZE, \n",
    "                  return_sequences = True, \n",
    "                  name = 'Decoder-GRU')\n",
    "\n",
    "decoder_output = decoder_gru(decoded)\n",
    "\n",
    "decoder_dense = Dense(NUM_WORDS, \n",
    "                      activation='softmax', \n",
    "                      name='Decoder-Dense')\n",
    "\n",
    "decoder_outputs = decoder_dense(decoder_output)"
   ]
  },
  {
   "cell_type": "code",
   "execution_count": 17,
   "metadata": {
    "colab": {
     "autoexec": {
      "startup": false,
      "wait_interval": 0
     },
     "base_uri": "https://localhost:8080/",
     "height": 245
    },
    "colab_type": "code",
    "executionInfo": {
     "elapsed": 16429597,
     "status": "ok",
     "timestamp": 1527703552610,
     "user": {
      "displayName": "Duc Phan",
      "photoUrl": "https://lh3.googleusercontent.com/a/default-user=s128",
      "userId": "116486693952662929707"
     },
     "user_tz": -180
    },
    "id": "1QfIphmaGZml",
    "outputId": "f2471fd5-c836-4a4f-97c8-a51e0d1e48cd"
   },
   "outputs": [
    {
     "name": "stdout",
     "output_type": "stream",
     "text": [
      "Train on 4592932 samples, validate on 626309 samples\n",
      "Epoch 1/5\n",
      "  59808/4592932 [..............................] - ETA: 52:40 - loss: 3.1544 - acc: 0.7318 169728/4592932 [>.............................] - ETA: 50:31 - loss: 3.0018 - acc: 0.7331 273024/4592932 [>.............................] - ETA: 49:19 - loss: 2.9708 - acc: 0.7333 369504/4592932 [=>............................] - ETA: 48:22 - loss: 2.9579 - acc: 0.7333 468288/4592932 [==>...........................] - ETA: 47:18 - loss: 2.9481 - acc: 0.7336 565632/4592932 [==>...........................] - ETA: 46:16 - loss: 2.9421 - acc: 0.7337 665472/4592932 [===>..........................] - ETA: 45:10 - loss: 2.9393 - acc: 0.7336 766560/4592932 [====>.........................] - ETA: 43:57 - loss: 2.9369 - acc: 0.7336 873888/4592932 [====>.........................] - ETA: 42:38 - loss: 2.9348 - acc: 0.7336 976608/4592932 [=====>........................] - ETA: 41:24 - loss: 2.9334 - acc: 0.73361078080/4592932 [======>.......................] - ETA: 40:12 - loss: 2.9325 - acc: 0.73361180032/4592932 [======>.......................] - ETA: 39:01 - loss: 2.9305 - acc: 0.73371279680/4592932 [=======>......................] - ETA: 37:52 - loss: 2.9296 - acc: 0.73371381344/4592932 [========>.....................] - ETA: 36:42 - loss: 2.9284 - acc: 0.73371482720/4592932 [========>.....................] - ETA: 35:32 - loss: 2.9280 - acc: 0.73371588128/4592932 [=========>....................] - ETA: 34:20 - loss: 2.9274 - acc: 0.73371692096/4592932 [==========>...................] - ETA: 33:07 - loss: 2.9260 - acc: 0.73371800096/4592932 [==========>...................] - ETA: 31:52 - loss: 2.9240 - acc: 0.73381907712/4592932 [===========>..................] - ETA: 30:38 - loss: 2.9218 - acc: 0.73382016480/4592932 [============>.................] - ETA: 29:23 - loss: 2.9203 - acc: 0.73382117088/4592932 [============>.................] - ETA: 28:13 - loss: 2.9186 - acc: 0.73382227968/4592932 [=============>................] - ETA: 26:57 - loss: 2.8960 - acc: 0.73382329920/4592932 [==============>...............] - ETA: 25:48 - loss: 2.8707 - acc: 0.73382431296/4592932 [==============>...............] - ETA: 24:38 - loss: 2.8441 - acc: 0.73382537472/4592932 [===============>..............] - ETA: 23:25 - loss: 2.8148 - acc: 0.73392642208/4592932 [================>.............] - ETA: 22:14 - loss: 2.7849 - acc: 0.73392744064/4592932 [================>.............] - ETA: 21:05 - loss: 2.7553 - acc: 0.73392844096/4592932 [=================>............] - ETA: 19:56 - loss: 2.7256 - acc: 0.73402944992/4592932 [==================>...........] - ETA: 18:47 - loss: 2.6956 - acc: 0.73403046944/4592932 [==================>...........] - ETA: 17:38 - loss: 2.6647 - acc: 0.73403149472/4592932 [===================>..........] - ETA: 16:28 - loss: 2.6332 - acc: 0.73413258336/4592932 [====================>.........] - ETA: 15:13 - loss: 2.5991 - acc: 0.73423360384/4592932 [====================>.........] - ETA: 14:03 - loss: 2.5669 - acc: 0.73443458784/4592932 [=====================>........] - ETA: 12:56 - loss: 2.5357 - acc: 0.73463555264/4592932 [======================>.......] - ETA: 11:50 - loss: 2.5047 - acc: 0.73493652896/4592932 [======================>.......] - ETA: 10:44 - loss: 2.4731 - acc: 0.73523751872/4592932 [=======================>......] - ETA: 9:36 - loss: 2.4410 - acc: 0.73573850176/4592932 [========================>.....] - ETA: 8:29 - loss: 2.4089 - acc: 0.73623955200/4592932 [========================>.....] - ETA: 7:17 - loss: 2.3745 - acc: 0.73704063200/4592932 [=========================>....] - ETA: 6:02 - loss: 2.3391 - acc: 0.73814175616/4592932 [==========================>...] - ETA: 4:45 - loss: 2.3020 - acc: 0.73944295616/4592932 [===========================>..] - ETA: 3:23 - loss: 2.2621 - acc: 0.74134437600/4592932 [===========================>..] - ETA: 1:46 - loss: 2.2149 - acc: 0.74404560864/4592932 [============================>.] - ETA: 21s - loss: 2.1738 - acc: 0.74674592932/4592932 [==============================] - 3278s 714us/step - loss: 2.1632 - acc: 0.7475 - val_loss: 0.6503 - val_acc: 0.8575\n",
      "Epoch 2/5\n"
     ]
    },
    {
     "name": "stdout",
     "output_type": "stream",
     "text": [
      "  27936/4592932 [..............................] - ETA: 52:18 - loss: 0.6318 - acc: 0.8622 143424/4592932 [..............................] - ETA: 49:43 - loss: 0.5904 - acc: 0.8733 253632/4592932 [>.............................] - ETA: 48:21 - loss: 0.5610 - acc: 0.8811 369408/4592932 [=>............................] - ETA: 47:12 - loss: 0.5287 - acc: 0.8895 472128/4592932 [==>...........................] - ETA: 46:10 - loss: 0.5101 - acc: 0.8953 572640/4592932 [==>...........................] - ETA: 45:08 - loss: 0.4837 - acc: 0.9018 669984/4592932 [===>..........................] - ETA: 44:08 - loss: 0.4601 - acc: 0.9075 773760/4592932 [====>.........................] - ETA: 43:02 - loss: 0.4369 - acc: 0.9130 875616/4592932 [====>.........................] - ETA: 41:57 - loss: 0.4156 - acc: 0.9179 977088/4592932 [=====>........................] - ETA: 40:50 - loss: 0.3974 - acc: 0.92211075680/4592932 [======>.......................] - ETA: 39:46 - loss: 0.3794 - acc: 0.92611178688/4592932 [======>.......................] - ETA: 38:37 - loss: 0.3626 - acc: 0.92971275648/4592932 [=======>......................] - ETA: 37:35 - loss: 0.3482 - acc: 0.93281374336/4592932 [=======>......................] - ETA: 36:32 - loss: 0.3345 - acc: 0.93571472448/4592932 [========>.....................] - ETA: 35:28 - loss: 0.3218 - acc: 0.93831568832/4592932 [=========>....................] - ETA: 34:25 - loss: 0.3113 - acc: 0.94051670304/4592932 [=========>....................] - ETA: 33:18 - loss: 0.2998 - acc: 0.94291768800/4592932 [==========>...................] - ETA: 32:11 - loss: 0.2897 - acc: 0.94491873056/4592932 [===========>..................] - ETA: 31:00 - loss: 0.2797 - acc: 0.94691977600/4592932 [===========>..................] - ETA: 29:49 - loss: 0.2705 - acc: 0.94872080416/4592932 [============>.................] - ETA: 28:39 - loss: 0.2622 - acc: 0.95042201472/4592932 [=============>................] - ETA: 27:16 - loss: 0.2539 - acc: 0.95202305344/4592932 [==============>...............] - ETA: 26:04 - loss: 0.2463 - acc: 0.95362409312/4592932 [==============>...............] - ETA: 24:53 - loss: 0.2391 - acc: 0.95502513280/4592932 [===============>..............] - ETA: 23:41 - loss: 0.2325 - acc: 0.95632616384/4592932 [================>.............] - ETA: 22:30 - loss: 0.2295 - acc: 0.95692717472/4592932 [================>.............] - ETA: 21:21 - loss: 0.2236 - acc: 0.95812821536/4592932 [=================>............] - ETA: 20:09 - loss: 0.2180 - acc: 0.95922925216/4592932 [==================>...........] - ETA: 18:58 - loss: 0.2128 - acc: 0.96023023712/4592932 [==================>...........] - ETA: 17:51 - loss: 0.2081 - acc: 0.96113124992/4592932 [===================>..........] - ETA: 16:43 - loss: 0.2034 - acc: 0.96203223200/4592932 [====================>.........] - ETA: 15:36 - loss: 0.1991 - acc: 0.96283319680/4592932 [====================>.........] - ETA: 14:30 - loss: 0.1952 - acc: 0.96353426432/4592932 [=====================>........] - ETA: 13:17 - loss: 0.1908 - acc: 0.96443527328/4592932 [======================>.......] - ETA: 12:08 - loss: 0.1869 - acc: 0.96513630336/4592932 [======================>.......] - ETA: 10:58 - loss: 0.1832 - acc: 0.96583737280/4592932 [=======================>......] - ETA: 9:45 - loss: 0.1804 - acc: 0.96643852096/4592932 [========================>.....] - ETA: 8:26 - loss: 0.1765 - acc: 0.96713953184/4592932 [========================>.....] - ETA: 7:17 - loss: 0.1732 - acc: 0.96784061280/4592932 [=========================>....] - ETA: 6:03 - loss: 0.1699 - acc: 0.96844162464/4592932 [==========================>...] - ETA: 4:54 - loss: 0.1686 - acc: 0.96874265568/4592932 [==========================>...] - ETA: 3:43 - loss: 0.1656 - acc: 0.96934367136/4592932 [===========================>..] - ETA: 2:34 - loss: 0.1627 - acc: 0.96984466976/4592932 [============================>.] - ETA: 1:26 - loss: 0.1601 - acc: 0.97034587072/4592932 [============================>.] - ETA: 4s - loss: 0.1570 - acc: 0.97094592932/4592932 [==============================] - 3284s 715us/step - loss: 0.1569 - acc: 0.9709 - val_loss: 0.0423 - val_acc: 0.9922\n",
      "Epoch 3/5\n",
      "  37536/4592932 [..............................] - ETA: 52:57 - loss: 0.0394 - acc: 0.9928 139680/4592932 [..............................] - ETA: 51:08 - loss: 0.0400 - acc: 0.9925 238560/4592932 [>.............................] - ETA: 49:46 - loss: 0.1866 - acc: 0.9809 339648/4592932 [=>............................] - ETA: 48:33 - loss: 0.2223 - acc: 0.9797 440736/4592932 [=>............................] - ETA: 47:23 - loss: 0.2418 - acc: 0.9789 538464/4592932 [==>...........................] - ETA: 46:20 - loss: 0.2536 - acc: 0.9784 647520/4592932 [===>..........................] - ETA: 45:06 - loss: 0.2630 - acc: 0.9780 751968/4592932 [===>..........................] - ETA: 43:50 - loss: 0.2689 - acc: 0.9778 853344/4592932 [====>.........................] - ETA: 42:41 - loss: 0.2503 - acc: 0.9789 955200/4592932 [=====>........................] - ETA: 41:32 - loss: 0.2270 - acc: 0.98051052544/4592932 [=====>........................] - ETA: 40:26 - loss: 0.2104 - acc: 0.98151163328/4592932 [======>.......................] - ETA: 39:08 - loss: 0.1934 - acc: 0.98271277760/4592932 [=======>......................] - ETA: 37:46 - loss: 0.1790 - acc: 0.98371384224/4592932 [========>.....................] - ETA: 36:29 - loss: 0.1677 - acc: 0.98451503840/4592932 [========>.....................] - ETA: 35:04 - loss: 0.1620 - acc: 0.98461610496/4592932 [=========>....................] - ETA: 33:49 - loss: 0.1535 - acc: 0.98521728384/4592932 [==========>...................] - ETA: 32:27 - loss: 0.1449 - acc: 0.98591900224/4592932 [===========>..................] - ETA: 30:28 - loss: 0.1346 - acc: 0.98662020032/4592932 [============>.................] - ETA: 29:05 - loss: 0.1285 - acc: 0.98712251968/4592932 [=============>................] - ETA: 26:23 - loss: 0.1184 - acc: 0.98782401536/4592932 [==============>...............] - ETA: 24:40 - loss: 0.1147 - acc: 0.98792508576/4592932 [===============>..............] - ETA: 23:27 - loss: 0.1108 - acc: 0.98832615424/4592932 [================>.............] - ETA: 22:16 - loss: 0.1074 - acc: 0.98852730528/4592932 [================>.............] - ETA: 20:58 - loss: 0.1040 - acc: 0.98882844384/4592932 [=================>............] - ETA: 19:41 - loss: 0.1010 - acc: 0.98902952384/4592932 [==================>...........] - ETA: 18:29 - loss: 0.0983 - acc: 0.98923070848/4592932 [===================>..........] - ETA: 17:09 - loss: 0.0956 - acc: 0.98943182016/4592932 [===================>..........] - ETA: 15:54 - loss: 0.1029 - acc: 0.98873288000/4592932 [====================>.........] - ETA: 14:42 - loss: 0.1004 - acc: 0.98893398880/4592932 [=====================>........] - ETA: 13:27 - loss: 0.0979 - acc: 0.98913513504/4592932 [=====================>........] - ETA: 12:09 - loss: 0.0954 - acc: 0.98933618720/4592932 [======================>.......] - ETA: 10:58 - loss: 0.0933 - acc: 0.98953758208/4592932 [=======================>......] - ETA: 9:24 - loss: 0.0915 - acc: 0.98963865056/4592932 [========================>.....] - ETA: 8:12 - loss: 0.0895 - acc: 0.98984001856/4592932 [=========================>....] - ETA: 6:39 - loss: 0.0872 - acc: 0.99004108896/4592932 [=========================>....] - ETA: 5:26 - loss: 0.0856 - acc: 0.99014236096/4592932 [==========================>...] - ETA: 4:00 - loss: 0.0837 - acc: 0.99034341504/4592932 [===========================>..] - ETA: 2:49 - loss: 0.0828 - acc: 0.99034448640/4592932 [============================>.] - ETA: 1:37 - loss: 0.0813 - acc: 0.99044555200/4592932 [============================>.] - ETA: 25s - loss: 0.0804 - acc: 0.99054592932/4592932 [==============================] - 3246s 707us/step - loss: 0.0799 - acc: 0.9905 - val_loss: 0.0196 - val_acc: 0.9963\n",
      "Epoch 4/5\n"
     ]
    },
    {
     "name": "stdout",
     "output_type": "stream",
     "text": [
      "  23808/4592932 [..............................] - ETA: 53:53 - loss: 0.0153 - acc: 0.9971 120480/4592932 [..............................] - ETA: 51:43 - loss: 0.0171 - acc: 0.9968 219360/4592932 [>.............................] - ETA: 50:23 - loss: 0.0184 - acc: 0.9965 317280/4592932 [=>............................] - ETA: 49:16 - loss: 0.0192 - acc: 0.9963 416544/4592932 [=>............................] - ETA: 48:06 - loss: 0.0194 - acc: 0.9962 515808/4592932 [==>...........................] - ETA: 46:57 - loss: 0.0310 - acc: 0.9947 615264/4592932 [===>..........................] - ETA: 45:49 - loss: 0.0288 - acc: 0.9950 714336/4592932 [===>..........................] - ETA: 44:41 - loss: 0.0272 - acc: 0.9952 810816/4592932 [====>.........................] - ETA: 43:34 - loss: 0.0260 - acc: 0.9954 916992/4592932 [====>.........................] - ETA: 42:12 - loss: 0.0253 - acc: 0.99551038528/4592932 [=====>........................] - ETA: 40:43 - loss: 0.0248 - acc: 0.99551173216/4592932 [======>.......................] - ETA: 39:05 - loss: 0.0241 - acc: 0.99561274208/4592932 [=======>......................] - ETA: 37:55 - loss: 0.0238 - acc: 0.99561372224/4592932 [=======>......................] - ETA: 36:48 - loss: 0.0235 - acc: 0.99571471680/4592932 [========>.....................] - ETA: 35:40 - loss: 0.0248 - acc: 0.99551569600/4592932 [=========>....................] - ETA: 34:34 - loss: 0.0249 - acc: 0.99541688832/4592932 [==========>...................] - ETA: 33:11 - loss: 0.0242 - acc: 0.99551791360/4592932 [==========>...................] - ETA: 32:00 - loss: 0.0238 - acc: 0.99561897536/4592932 [===========>..................] - ETA: 30:46 - loss: 0.0235 - acc: 0.99572013504/4592932 [============>.................] - ETA: 29:26 - loss: 0.0233 - acc: 0.99572113440/4592932 [============>.................] - ETA: 28:17 - loss: 0.0230 - acc: 0.99572211648/4592932 [=============>................] - ETA: 27:10 - loss: 0.0228 - acc: 0.99582312544/4592932 [==============>...............] - ETA: 26:01 - loss: 0.0225 - acc: 0.99582419104/4592932 [==============>...............] - ETA: 24:48 - loss: 0.0234 - acc: 0.99562518272/4592932 [===============>..............] - ETA: 23:40 - loss: 0.0243 - acc: 0.99552618400/4592932 [================>.............] - ETA: 22:32 - loss: 0.0239 - acc: 0.99562716992/4592932 [================>.............] - ETA: 21:24 - loss: 0.0236 - acc: 0.99562817312/4592932 [=================>............] - ETA: 20:15 - loss: 0.0233 - acc: 0.99572921568/4592932 [==================>...........] - ETA: 19:04 - loss: 0.0231 - acc: 0.99573019008/4592932 [==================>...........] - ETA: 17:57 - loss: 0.0233 - acc: 0.99573125568/4592932 [===================>..........] - ETA: 16:44 - loss: 0.0230 - acc: 0.99573226752/4592932 [====================>.........] - ETA: 15:36 - loss: 0.0228 - acc: 0.99583324672/4592932 [====================>.........] - ETA: 14:29 - loss: 0.0226 - acc: 0.99583421632/4592932 [=====================>........] - ETA: 13:22 - loss: 0.0237 - acc: 0.99573520224/4592932 [=====================>........] - ETA: 12:15 - loss: 0.0242 - acc: 0.99563616992/4592932 [======================>.......] - ETA: 11:09 - loss: 0.0239 - acc: 0.99563714048/4592932 [=======================>......] - ETA: 10:02 - loss: 0.0237 - acc: 0.99573816768/4592932 [=======================>......] - ETA: 8:52 - loss: 0.0235 - acc: 0.99573917856/4592932 [========================>.....] - ETA: 7:43 - loss: 0.0233 - acc: 0.99574016736/4592932 [=========================>....] - ETA: 6:35 - loss: 0.0241 - acc: 0.99564115424/4592932 [=========================>....] - ETA: 5:27 - loss: 0.0238 - acc: 0.99574216320/4592932 [==========================>...] - ETA: 4:18 - loss: 0.0236 - acc: 0.99574314720/4592932 [===========================>..] - ETA: 3:11 - loss: 0.0234 - acc: 0.99574417728/4592932 [===========================>..] - ETA: 2:00 - loss: 0.0233 - acc: 0.99574513056/4592932 [============================>.] - ETA: 54s - loss: 0.0231 - acc: 0.99584592932/4592932 [==============================] - 3301s 719us/step - loss: 0.0230 - acc: 0.9958 - val_loss: 0.0175 - val_acc: 0.9965\n",
      "Epoch 5/5\n"
     ]
    },
    {
     "name": "stdout",
     "output_type": "stream",
     "text": [
      "   7584/4592932 [..............................] - ETA: 57:12 - loss: 0.0148 - acc: 0.9972 103680/4592932 [..............................] - ETA: 52:01 - loss: 0.0154 - acc: 0.9969 201312/4592932 [>.............................] - ETA: 50:49 - loss: 0.0155 - acc: 0.9969 298368/4592932 [>.............................] - ETA: 49:40 - loss: 0.0154 - acc: 0.9969 401088/4592932 [=>............................] - ETA: 48:13 - loss: 0.0224 - acc: 0.9957 512256/4592932 [==>...........................] - ETA: 46:44 - loss: 0.0202 - acc: 0.9961 615936/4592932 [===>..........................] - ETA: 45:28 - loss: 0.0188 - acc: 0.9964 721824/4592932 [===>..........................] - ETA: 44:12 - loss: 0.0181 - acc: 0.9965 834048/4592932 [====>.........................] - ETA: 42:52 - loss: 0.0175 - acc: 0.9966 937824/4592932 [=====>........................] - ETA: 41:40 - loss: 0.0172 - acc: 0.99671047936/4592932 [=====>........................] - ETA: 40:22 - loss: 0.0239 - acc: 0.99561149024/4592932 [======>.......................] - ETA: 39:13 - loss: 0.0229 - acc: 0.99571257312/4592932 [=======>......................] - ETA: 37:58 - loss: 0.0222 - acc: 0.99591366272/4592932 [=======>......................] - ETA: 36:44 - loss: 0.0214 - acc: 0.99601465344/4592932 [========>.....................] - ETA: 35:37 - loss: 0.0209 - acc: 0.99611579488/4592932 [=========>....................] - ETA: 34:19 - loss: 0.0205 - acc: 0.99621679520/4592932 [=========>....................] - ETA: 33:10 - loss: 0.0201 - acc: 0.99631779168/4592932 [==========>...................] - ETA: 32:04 - loss: 0.0240 - acc: 0.99561875072/4592932 [===========>..................] - ETA: 31:01 - loss: 0.0243 - acc: 0.99561972512/4592932 [===========>..................] - ETA: 29:56 - loss: 0.0238 - acc: 0.99562071104/4592932 [============>.................] - ETA: 28:50 - loss: 0.0235 - acc: 0.99572170656/4592932 [=============>................] - ETA: 27:42 - loss: 0.0232 - acc: 0.99582266848/4592932 [=============>................] - ETA: 26:37 - loss: 0.0246 - acc: 0.99552369472/4592932 [==============>...............] - ETA: 25:27 - loss: 0.0242 - acc: 0.99562471520/4592932 [===============>..............] - ETA: 24:16 - loss: 0.0237 - acc: 0.99572573856/4592932 [===============>..............] - ETA: 23:05 - loss: 0.0233 - acc: 0.99582673408/4592932 [================>.............] - ETA: 21:57 - loss: 0.0250 - acc: 0.99552774304/4592932 [=================>............] - ETA: 20:48 - loss: 0.0246 - acc: 0.99562875776/4592932 [=================>............] - ETA: 19:38 - loss: 0.0242 - acc: 0.99562974464/4592932 [==================>...........] - ETA: 18:31 - loss: 0.0238 - acc: 0.99573072576/4592932 [===================>..........] - ETA: 17:23 - loss: 0.0235 - acc: 0.99583171552/4592932 [===================>..........] - ETA: 16:16 - loss: 0.0236 - acc: 0.99573270336/4592932 [====================>.........] - ETA: 15:08 - loss: 0.0234 - acc: 0.99583381696/4592932 [=====================>........] - ETA: 13:51 - loss: 0.0230 - acc: 0.99583481824/4592932 [=====================>........] - ETA: 12:42 - loss: 0.0227 - acc: 0.99593579840/4592932 [======================>.......] - ETA: 11:35 - loss: 0.0225 - acc: 0.99593677568/4592932 [=======================>......] - ETA: 10:28 - loss: 0.0242 - acc: 0.99573778464/4592932 [=======================>......] - ETA: 9:19 - loss: 0.0241 - acc: 0.99573880992/4592932 [========================>.....] - ETA: 8:09 - loss: 0.0239 - acc: 0.99573987168/4592932 [=========================>....] - ETA: 6:56 - loss: 0.0236 - acc: 0.99584090656/4592932 [=========================>....] - ETA: 5:45 - loss: 0.0233 - acc: 0.99584190592/4592932 [==========================>...] - ETA: 4:36 - loss: 0.0231 - acc: 0.99594298016/4592932 [===========================>..] - ETA: 3:22 - loss: 0.0228 - acc: 0.99594400736/4592932 [===========================>..] - ETA: 2:12 - loss: 0.0226 - acc: 0.99594507584/4592932 [============================>.] - ETA: 58s - loss: 0.0224 - acc: 0.99604592932/4592932 [==============================] - 3297s 718us/step - loss: 0.0224 - acc: 0.9960 - val_loss: 0.0680 - val_acc: 0.9895\n"
     ]
    }
   ],
   "source": [
    "autoencoder  = Model(encoder_inputs, decoder_outputs )\n",
    "\n",
    "checkpoint = ModelCheckpoint(os.path.join(SOURCE_FOLDER, \"autoencoderGRU.h5\"), save_best_only=True)\n",
    "\n",
    "autoencoder.compile(optimizer=optimizers.Adam(lr=0.001), loss='sparse_categorical_crossentropy', metrics=[\"accuracy\"])\n",
    "#autoencoder.compile(optimizer=\"rmsprop\", loss='sparse_categorical_crossentropy', metrics=[\"accuracy\"])\n",
    "\n",
    "\n",
    "history = autoencoder.fit(pad_seqs, \n",
    "                            np.expand_dims(pad_seqs, -1),\n",
    "                            batch_size=batch_size,\n",
    "                            epochs=5,\n",
    "                            validation_split=0.12,\n",
    "                            callbacks=[checkpoint])"
   ]
  },
  {
   "cell_type": "markdown",
   "metadata": {},
   "source": [
    "#### Save the completed model and the encoded model"
   ]
  },
  {
   "cell_type": "code",
   "execution_count": 0,
   "metadata": {
    "colab": {
     "autoexec": {
      "startup": false,
      "wait_interval": 0
     }
    },
    "colab_type": "code",
    "id": "lbpN5h4kGmKt"
   },
   "outputs": [],
   "source": [
    "autoencoder.save(os.path.join(SOURCE_FOLDER, \"seq2seq_Model_GRU_5epochs_6000words_adam.h5\"))"
   ]
  },
  {
   "cell_type": "code",
   "execution_count": 0,
   "metadata": {
    "colab": {
     "autoexec": {
      "startup": false,
      "wait_interval": 0
     }
    },
    "colab_type": "code",
    "id": "1kA7KWu8TC8R"
   },
   "outputs": [],
   "source": [
    "encoded.save(os.path.join(SOURCE_FOLDER,\"encoder_model_GRU_5epochs_6000words_adam.h5\"))"
   ]
  },
  {
   "cell_type": "code",
   "execution_count": 0,
   "metadata": {
    "colab": {
     "autoexec": {
      "startup": false,
      "wait_interval": 0
     }
    },
    "colab_type": "code",
    "id": "YKDwhgc2TVwc"
   },
   "outputs": [],
   "source": [
    "# save the tokenizer too"
   ]
  },
  {
   "cell_type": "code",
   "execution_count": 0,
   "metadata": {
    "colab": {
     "autoexec": {
      "startup": false,
      "wait_interval": 0
     }
    },
    "colab_type": "code",
    "id": "kFSYjYhD9JOt"
   },
   "outputs": [],
   "source": [
    "import pickle\n",
    "with open(os.path.join(SOURCE_FOLDER, \"tokenizer.pk\"), \"wb\") as handle:\n",
    "    pickle.dump(tokenizer, handle)\n"
   ]
  },
  {
   "cell_type": "code",
   "execution_count": 0,
   "metadata": {
    "colab": {
     "autoexec": {
      "startup": false,
      "wait_interval": 0
     }
    },
    "colab_type": "code",
    "id": "UGcG1UG5POAh"
   },
   "outputs": [],
   "source": [
    "import matplotlib.pyplot as plt\n",
    "%matplotlib inline"
   ]
  },
  {
   "cell_type": "code",
   "execution_count": 23,
   "metadata": {
    "colab": {
     "autoexec": {
      "startup": false,
      "wait_interval": 0
     },
     "base_uri": "https://localhost:8080/",
     "height": 279
    },
    "colab_type": "code",
    "executionInfo": {
     "elapsed": 631,
     "status": "ok",
     "timestamp": 1527703758225,
     "user": {
      "displayName": "Duc Phan",
      "photoUrl": "https://lh3.googleusercontent.com/a/default-user=s128",
      "userId": "116486693952662929707"
     },
     "user_tz": -180
    },
    "id": "OQEK2kfsbP_W",
    "outputId": "396b3105-7d51-465a-fb30-21b59f9e50cc"
   },
   "outputs": [
    {
     "data": {
      "image/png": "[encoded data removed]",
      "text/plain": [
       "<matplotlib.figure.Figure at 0x7fa7459395c0>"
      ]
     },
     "metadata": {
      "tags": []
     },
     "output_type": "display_data"
    }
   ],
   "source": [
    "plt.plot(history.history[\"loss\"], color=\"g\", label=\"train\")\n",
    "plt.plot(history.history[\"val_loss\"], color=\"b\", label=\"validation\")\n",
    "plt.ylabel(\"loss\")\n",
    "plt.xlabel(\"epochs\")\n",
    "plt.legend(loc=\"best\")\n",
    "plt.show()"
   ]
  },
  {
   "cell_type": "code",
   "execution_count": 0,
   "metadata": {
    "colab": {
     "autoexec": {
      "startup": false,
      "wait_interval": 0
     }
    },
    "colab_type": "code",
    "id": "bs-rnBgmO-tk"
   },
   "outputs": [],
   "source": []
  }
 ],
 "metadata": {
  "accelerator": "GPU",
  "colab": {
   "collapsed_sections": [],
   "default_view": {},
   "name": "autoencoder_GRU.ipynb",
   "provenance": [],
   "version": "0.3.2",
   "views": {}
  },
  "kernelspec": {
   "display_name": "Python [default]",
   "language": "python",
   "name": "python3"
  },
  "language_info": {
   "codemirror_mode": {
    "name": "ipython",
    "version": 3
   },
   "file_extension": ".py",
   "mimetype": "text/x-python",
   "name": "python",
   "nbconvert_exporter": "python",
   "pygments_lexer": "ipython3",
   "version": "3.6.5"
  },
  "toc": {
   "base_numbering": 1,
   "nav_menu": {},
   "number_sections": true,
   "sideBar": true,
   "skip_h1_title": false,
   "title_cell": "Table of Contents",
   "title_sidebar": "Contents",
   "toc_cell": false,
   "toc_position": {},
   "toc_section_display": true,
   "toc_window_display": false
  }
 },
 "nbformat": 4,
 "nbformat_minor": 1
}
